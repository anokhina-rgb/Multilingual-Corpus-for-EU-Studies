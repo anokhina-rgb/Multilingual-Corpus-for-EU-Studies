{
  "nbformat": 4,
  "nbformat_minor": 0,
  "metadata": {
    "colab": {
      "provenance": [],
      "authorship_tag": "ABX9TyOo7/53i88v8RVyXs1XiM1W",
      "include_colab_link": true
    },
    "kernelspec": {
      "name": "python3",
      "display_name": "Python 3"
    },
    "language_info": {
      "name": "python"
    },
    "widgets": {
      "application/vnd.jupyter.widget-state+json": {
        "408eb04cc8c24a35afc37b81b2c087c7": {
          "model_module": "@jupyter-widgets/controls",
          "model_name": "VBoxModel",
          "model_module_version": "1.5.0",
          "state": {
            "_dom_classes": [],
            "_model_module": "@jupyter-widgets/controls",
            "_model_module_version": "1.5.0",
            "_model_name": "VBoxModel",
            "_view_count": null,
            "_view_module": "@jupyter-widgets/controls",
            "_view_module_version": "1.5.0",
            "_view_name": "VBoxView",
            "box_style": "",
            "children": [
              "IPY_MODEL_57cd3307525c4b4280169daef65343b9",
              "IPY_MODEL_c1700762651c4042a902256550b3884f",
              "IPY_MODEL_48e9cad0d26b41688b26219faec0a18a",
              "IPY_MODEL_ba470a74d270469a8aaab3c5b568ccfe"
            ],
            "layout": "IPY_MODEL_3a5927c948544fe68a8529601476484a"
          }
        },
        "57cd3307525c4b4280169daef65343b9": {
          "model_module": "@jupyter-widgets/controls",
          "model_name": "FileUploadModel",
          "model_module_version": "1.5.0",
          "state": {
            "_counter": 1,
            "_dom_classes": [],
            "_model_module": "@jupyter-widgets/controls",
            "_model_module_version": "1.5.0",
            "_model_name": "FileUploadModel",
            "_view_count": null,
            "_view_module": "@jupyter-widgets/controls",
            "_view_module_version": "1.5.0",
            "_view_name": "FileUploadView",
            "accept": ".txt",
            "button_style": "",
            "data": [
              null
            ],
            "description": "Upload English",
            "description_tooltip": null,
            "disabled": false,
            "error": "",
            "icon": "upload",
            "layout": "IPY_MODEL_2e9f6a8a53a643b09d5a43befb4350dd",
            "metadata": [
              {
                "name": "geneva_convention_english_expanded.txt",
                "type": "text/plain",
                "size": 3118,
                "lastModified": 1745695100996
              }
            ],
            "multiple": false,
            "style": "IPY_MODEL_c4edd4ca04a9433ea6148a694fa816e9"
          }
        },
        "c1700762651c4042a902256550b3884f": {
          "model_module": "@jupyter-widgets/controls",
          "model_name": "FileUploadModel",
          "model_module_version": "1.5.0",
          "state": {
            "_counter": 1,
            "_dom_classes": [],
            "_model_module": "@jupyter-widgets/controls",
            "_model_module_version": "1.5.0",
            "_model_name": "FileUploadModel",
            "_view_count": null,
            "_view_module": "@jupyter-widgets/controls",
            "_view_module_version": "1.5.0",
            "_view_name": "FileUploadView",
            "accept": ".txt",
            "button_style": "",
            "data": [
              null
            ],
            "description": "Upload Ukrainian",
            "description_tooltip": null,
            "disabled": false,
            "error": "",
            "icon": "upload",
            "layout": "IPY_MODEL_dbe42fc4fd4f430aa40fbd21f4676f42",
            "metadata": [
              {
                "name": "geneva_convention_ukrainian_expanded.txt",
                "type": "text/plain",
                "size": 5313,
                "lastModified": 1745695104218
              }
            ],
            "multiple": false,
            "style": "IPY_MODEL_b1c4c78b1e984f2dac585f48f70b4087"
          }
        },
        "48e9cad0d26b41688b26219faec0a18a": {
          "model_module": "@jupyter-widgets/controls",
          "model_name": "ButtonModel",
          "model_module_version": "1.5.0",
          "state": {
            "_dom_classes": [],
            "_model_module": "@jupyter-widgets/controls",
            "_model_module_version": "1.5.0",
            "_model_name": "ButtonModel",
            "_view_count": null,
            "_view_module": "@jupyter-widgets/controls",
            "_view_module_version": "1.5.0",
            "_view_name": "ButtonView",
            "button_style": "success",
            "description": "Generate Dictionary",
            "disabled": false,
            "icon": "",
            "layout": "IPY_MODEL_f9e18915de2c4e46882f212b164a8c53",
            "style": "IPY_MODEL_1c3611b21a1f4df0a1399b5a94b9a478",
            "tooltip": ""
          }
        },
        "ba470a74d270469a8aaab3c5b568ccfe": {
          "model_module": "@jupyter-widgets/output",
          "model_name": "OutputModel",
          "model_module_version": "1.0.0",
          "state": {
            "_dom_classes": [],
            "_model_module": "@jupyter-widgets/output",
            "_model_module_version": "1.0.0",
            "_model_name": "OutputModel",
            "_view_count": null,
            "_view_module": "@jupyter-widgets/output",
            "_view_module_version": "1.0.0",
            "_view_name": "OutputView",
            "layout": "IPY_MODEL_6d98f957911149ce8bc2a9d6050905fe",
            "msg_id": "",
            "outputs": [
              {
                "output_type": "stream",
                "name": "stdout",
                "text": [
                  "✅ Dictionary created! Download it from the left panel (lexonomy_dictionary.xml)\n"
                ]
              }
            ]
          }
        },
        "3a5927c948544fe68a8529601476484a": {
          "model_module": "@jupyter-widgets/base",
          "model_name": "LayoutModel",
          "model_module_version": "1.2.0",
          "state": {
            "_model_module": "@jupyter-widgets/base",
            "_model_module_version": "1.2.0",
            "_model_name": "LayoutModel",
            "_view_count": null,
            "_view_module": "@jupyter-widgets/base",
            "_view_module_version": "1.2.0",
            "_view_name": "LayoutView",
            "align_content": null,
            "align_items": null,
            "align_self": null,
            "border": null,
            "bottom": null,
            "display": null,
            "flex": null,
            "flex_flow": null,
            "grid_area": null,
            "grid_auto_columns": null,
            "grid_auto_flow": null,
            "grid_auto_rows": null,
            "grid_column": null,
            "grid_gap": null,
            "grid_row": null,
            "grid_template_areas": null,
            "grid_template_columns": null,
            "grid_template_rows": null,
            "height": null,
            "justify_content": null,
            "justify_items": null,
            "left": null,
            "margin": null,
            "max_height": null,
            "max_width": null,
            "min_height": null,
            "min_width": null,
            "object_fit": null,
            "object_position": null,
            "order": null,
            "overflow": null,
            "overflow_x": null,
            "overflow_y": null,
            "padding": null,
            "right": null,
            "top": null,
            "visibility": null,
            "width": null
          }
        },
        "2e9f6a8a53a643b09d5a43befb4350dd": {
          "model_module": "@jupyter-widgets/base",
          "model_name": "LayoutModel",
          "model_module_version": "1.2.0",
          "state": {
            "_model_module": "@jupyter-widgets/base",
            "_model_module_version": "1.2.0",
            "_model_name": "LayoutModel",
            "_view_count": null,
            "_view_module": "@jupyter-widgets/base",
            "_view_module_version": "1.2.0",
            "_view_name": "LayoutView",
            "align_content": null,
            "align_items": null,
            "align_self": null,
            "border": null,
            "bottom": null,
            "display": null,
            "flex": null,
            "flex_flow": null,
            "grid_area": null,
            "grid_auto_columns": null,
            "grid_auto_flow": null,
            "grid_auto_rows": null,
            "grid_column": null,
            "grid_gap": null,
            "grid_row": null,
            "grid_template_areas": null,
            "grid_template_columns": null,
            "grid_template_rows": null,
            "height": null,
            "justify_content": null,
            "justify_items": null,
            "left": null,
            "margin": null,
            "max_height": null,
            "max_width": null,
            "min_height": null,
            "min_width": null,
            "object_fit": null,
            "object_position": null,
            "order": null,
            "overflow": null,
            "overflow_x": null,
            "overflow_y": null,
            "padding": null,
            "right": null,
            "top": null,
            "visibility": null,
            "width": null
          }
        },
        "c4edd4ca04a9433ea6148a694fa816e9": {
          "model_module": "@jupyter-widgets/controls",
          "model_name": "ButtonStyleModel",
          "model_module_version": "1.5.0",
          "state": {
            "_model_module": "@jupyter-widgets/controls",
            "_model_module_version": "1.5.0",
            "_model_name": "ButtonStyleModel",
            "_view_count": null,
            "_view_module": "@jupyter-widgets/base",
            "_view_module_version": "1.2.0",
            "_view_name": "StyleView",
            "button_color": null,
            "font_weight": ""
          }
        },
        "dbe42fc4fd4f430aa40fbd21f4676f42": {
          "model_module": "@jupyter-widgets/base",
          "model_name": "LayoutModel",
          "model_module_version": "1.2.0",
          "state": {
            "_model_module": "@jupyter-widgets/base",
            "_model_module_version": "1.2.0",
            "_model_name": "LayoutModel",
            "_view_count": null,
            "_view_module": "@jupyter-widgets/base",
            "_view_module_version": "1.2.0",
            "_view_name": "LayoutView",
            "align_content": null,
            "align_items": null,
            "align_self": null,
            "border": null,
            "bottom": null,
            "display": null,
            "flex": null,
            "flex_flow": null,
            "grid_area": null,
            "grid_auto_columns": null,
            "grid_auto_flow": null,
            "grid_auto_rows": null,
            "grid_column": null,
            "grid_gap": null,
            "grid_row": null,
            "grid_template_areas": null,
            "grid_template_columns": null,
            "grid_template_rows": null,
            "height": null,
            "justify_content": null,
            "justify_items": null,
            "left": null,
            "margin": null,
            "max_height": null,
            "max_width": null,
            "min_height": null,
            "min_width": null,
            "object_fit": null,
            "object_position": null,
            "order": null,
            "overflow": null,
            "overflow_x": null,
            "overflow_y": null,
            "padding": null,
            "right": null,
            "top": null,
            "visibility": null,
            "width": null
          }
        },
        "b1c4c78b1e984f2dac585f48f70b4087": {
          "model_module": "@jupyter-widgets/controls",
          "model_name": "ButtonStyleModel",
          "model_module_version": "1.5.0",
          "state": {
            "_model_module": "@jupyter-widgets/controls",
            "_model_module_version": "1.5.0",
            "_model_name": "ButtonStyleModel",
            "_view_count": null,
            "_view_module": "@jupyter-widgets/base",
            "_view_module_version": "1.2.0",
            "_view_name": "StyleView",
            "button_color": null,
            "font_weight": ""
          }
        },
        "f9e18915de2c4e46882f212b164a8c53": {
          "model_module": "@jupyter-widgets/base",
          "model_name": "LayoutModel",
          "model_module_version": "1.2.0",
          "state": {
            "_model_module": "@jupyter-widgets/base",
            "_model_module_version": "1.2.0",
            "_model_name": "LayoutModel",
            "_view_count": null,
            "_view_module": "@jupyter-widgets/base",
            "_view_module_version": "1.2.0",
            "_view_name": "LayoutView",
            "align_content": null,
            "align_items": null,
            "align_self": null,
            "border": null,
            "bottom": null,
            "display": null,
            "flex": null,
            "flex_flow": null,
            "grid_area": null,
            "grid_auto_columns": null,
            "grid_auto_flow": null,
            "grid_auto_rows": null,
            "grid_column": null,
            "grid_gap": null,
            "grid_row": null,
            "grid_template_areas": null,
            "grid_template_columns": null,
            "grid_template_rows": null,
            "height": null,
            "justify_content": null,
            "justify_items": null,
            "left": null,
            "margin": null,
            "max_height": null,
            "max_width": null,
            "min_height": null,
            "min_width": null,
            "object_fit": null,
            "object_position": null,
            "order": null,
            "overflow": null,
            "overflow_x": null,
            "overflow_y": null,
            "padding": null,
            "right": null,
            "top": null,
            "visibility": null,
            "width": null
          }
        },
        "1c3611b21a1f4df0a1399b5a94b9a478": {
          "model_module": "@jupyter-widgets/controls",
          "model_name": "ButtonStyleModel",
          "model_module_version": "1.5.0",
          "state": {
            "_model_module": "@jupyter-widgets/controls",
            "_model_module_version": "1.5.0",
            "_model_name": "ButtonStyleModel",
            "_view_count": null,
            "_view_module": "@jupyter-widgets/base",
            "_view_module_version": "1.2.0",
            "_view_name": "StyleView",
            "button_color": null,
            "font_weight": ""
          }
        },
        "6d98f957911149ce8bc2a9d6050905fe": {
          "model_module": "@jupyter-widgets/base",
          "model_name": "LayoutModel",
          "model_module_version": "1.2.0",
          "state": {
            "_model_module": "@jupyter-widgets/base",
            "_model_module_version": "1.2.0",
            "_model_name": "LayoutModel",
            "_view_count": null,
            "_view_module": "@jupyter-widgets/base",
            "_view_module_version": "1.2.0",
            "_view_name": "LayoutView",
            "align_content": null,
            "align_items": null,
            "align_self": null,
            "border": null,
            "bottom": null,
            "display": null,
            "flex": null,
            "flex_flow": null,
            "grid_area": null,
            "grid_auto_columns": null,
            "grid_auto_flow": null,
            "grid_auto_rows": null,
            "grid_column": null,
            "grid_gap": null,
            "grid_row": null,
            "grid_template_areas": null,
            "grid_template_columns": null,
            "grid_template_rows": null,
            "height": null,
            "justify_content": null,
            "justify_items": null,
            "left": null,
            "margin": null,
            "max_height": null,
            "max_width": null,
            "min_height": null,
            "min_width": null,
            "object_fit": null,
            "object_position": null,
            "order": null,
            "overflow": null,
            "overflow_x": null,
            "overflow_y": null,
            "padding": null,
            "right": null,
            "top": null,
            "visibility": null,
            "width": null
          }
        }
      }
    }
  },
  "cells": [
    {
      "cell_type": "markdown",
      "metadata": {
        "id": "view-in-github",
        "colab_type": "text"
      },
      "source": [
        "<a href=\"https://colab.research.google.com/github/anokhina-rgb/Multilingual-Corpus-for-EU-Studies/blob/main/Untitled5.ipynb\" target=\"_parent\"><img src=\"https://colab.research.google.com/assets/colab-badge.svg\" alt=\"Open In Colab\"/></a>"
      ]
    },
    {
      "cell_type": "code",
      "execution_count": null,
      "metadata": {
        "id": "Qr1DVtX9rPTF"
      },
      "outputs": [],
      "source": []
    },
    {
      "cell_type": "code",
      "source": [
        "from IPython.display import display\n",
        "import ipywidgets as widgets\n",
        "import xml.etree.ElementTree as ET\n",
        "\n",
        "# Віджети для завантаження файлів\n",
        "upload_en = widgets.FileUpload(accept='.txt', multiple=False, description=\"Upload English\")\n",
        "upload_uk = widgets.FileUpload(accept='.txt', multiple=False, description=\"Upload Ukrainian\")\n",
        "output = widgets.Output()\n",
        "\n",
        "def create_lexonomy_dictionary(change=None):\n",
        "    output.clear_output()\n",
        "    with output:\n",
        "        if not upload_en.value or not upload_uk.value:\n",
        "            print(\"❗ Please upload both English and Ukrainian .txt files.\")\n",
        "            return\n",
        "\n",
        "        try:\n",
        "            en_file = list(upload_en.value.values())[0]['content'].decode('utf-8').strip().splitlines()\n",
        "            uk_file = list(upload_uk.value.values())[0]['content'].decode('utf-8').strip().splitlines()\n",
        "\n",
        "            if len(en_file) != len(uk_file):\n",
        "                print(f\"⚠️ Mismatch: {len(en_file)} EN vs {len(uk_file)} UK lines.\")\n",
        "                return\n",
        "\n",
        "            root = ET.Element(\"dictionary\")\n",
        "            for en, uk in zip(en_file, uk_file):\n",
        "                entry = ET.SubElement(root, \"entry\")\n",
        "                ET.SubElement(entry, \"form\").text = en\n",
        "                ET.SubElement(entry, \"translation\").text = uk\n",
        "\n",
        "            tree = ET.ElementTree(root)\n",
        "            tree.write(\"lexonomy_dictionary.xml\", encoding=\"utf-8\", xml_declaration=True)\n",
        "\n",
        "            print(\"✅ Dictionary created! Download it from the left panel (lexonomy_dictionary.xml)\")\n",
        "\n",
        "        except Exception as e:\n",
        "            print(f\"❌ Error: {e}\")\n",
        "\n",
        "# Кнопка для запуску\n",
        "generate_btn = widgets.Button(description=\"Generate Dictionary\", button_style='success')\n",
        "generate_btn.on_click(create_lexonomy_dictionary)\n",
        "\n",
        "# Показати інтерфейс\n",
        "display(widgets.VBox([upload_en, upload_uk, generate_btn, output]))\n"
      ],
      "metadata": {
        "colab": {
          "base_uri": "https://localhost:8080/",
          "height": 130,
          "referenced_widgets": [
            "408eb04cc8c24a35afc37b81b2c087c7",
            "57cd3307525c4b4280169daef65343b9",
            "c1700762651c4042a902256550b3884f",
            "48e9cad0d26b41688b26219faec0a18a",
            "ba470a74d270469a8aaab3c5b568ccfe",
            "3a5927c948544fe68a8529601476484a",
            "2e9f6a8a53a643b09d5a43befb4350dd",
            "c4edd4ca04a9433ea6148a694fa816e9",
            "dbe42fc4fd4f430aa40fbd21f4676f42",
            "b1c4c78b1e984f2dac585f48f70b4087",
            "f9e18915de2c4e46882f212b164a8c53",
            "1c3611b21a1f4df0a1399b5a94b9a478",
            "6d98f957911149ce8bc2a9d6050905fe"
          ]
        },
        "id": "iKm8t5B0rP--",
        "outputId": "b7961808-7c08-476a-9ccd-d3abcb936f39"
      },
      "execution_count": 3,
      "outputs": [
        {
          "output_type": "display_data",
          "data": {
            "text/plain": [
              "VBox(children=(FileUpload(value={}, accept='.txt', description='Upload English'), FileUpload(value={}, accept=…"
            ],
            "application/vnd.jupyter.widget-view+json": {
              "version_major": 2,
              "version_minor": 0,
              "model_id": "408eb04cc8c24a35afc37b81b2c087c7"
            }
          },
          "metadata": {}
        }
      ]
    },
    {
      "cell_type": "markdown",
      "source": [],
      "metadata": {
        "id": "wdraqHfnsDLm"
      }
    }
  ]
}