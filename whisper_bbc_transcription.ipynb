{
  "cells": [
    {
      "cell_type": "markdown",
      "metadata": {
        "id": "view-in-github",
        "colab_type": "text"
      },
      "source": [
        "<a href=\"https://colab.research.google.com/github/anokhina-rgb/Multilingual-Corpus-for-EU-Studies/blob/main/whisper_bbc_transcription.ipynb\" target=\"_parent\"><img src=\"https://colab.research.google.com/assets/colab-badge.svg\" alt=\"Open In Colab\"/></a>"
      ]
    },
    {
      "cell_type": "markdown",
      "id": "9f34e288",
      "metadata": {
        "id": "9f34e288"
      },
      "source": [
        "# 🎧 Whisper Transcription from BBC Video (Audio Only)\n",
        "This notebook extracts the audio from a BBC video URL and transcribes it using OpenAI's Whisper model."
      ]
    },
    {
      "cell_type": "code",
      "execution_count": null,
      "id": "e262c155",
      "metadata": {
        "id": "e262c155"
      },
      "outputs": [],
      "source": [
        "# 🔧 Install required packages\n",
        "!pip install git+https://github.com/openai/whisper.git\n",
        "!pip install yt-dlp\n",
        "!sudo apt update && sudo apt install ffmpeg -y\n"
      ]
    },
    {
      "cell_type": "code",
      "execution_count": null,
      "id": "55cc9678",
      "metadata": {
        "id": "55cc9678"
      },
      "outputs": [],
      "source": [
        "# 📥 Extract audio from BBC video URL\n",
        "import yt_dlp\n",
        "\n",
        "video_url = 'https://www.bbc.com/news/videos/c0jzljg19x3o'\n",
        "audio_file = 'bbc_audio.mp3'\n",
        "\n",
        "# Extract only the audio stream\n",
        "ydl_opts = {\n",
        "    'format': 'bestaudio/best',\n",
        "    'outtmpl': audio_file,\n",
        "    'postprocessors': [{\n",
        "        'key': 'FFmpegExtractAudio',\n",
        "        'preferredcodec': 'mp3',\n",
        "        'preferredquality': '192',\n",
        "    }],\n",
        "}\n",
        "\n",
        "with yt_dlp.YoutubeDL(ydl_opts) as ydl:\n",
        "    ydl.download([video_url])\n"
      ]
    },
    {
      "cell_type": "code",
      "execution_count": null,
      "id": "92530ab1",
      "metadata": {
        "id": "92530ab1"
      },
      "outputs": [],
      "source": [
        "# 🤖 Transcribe audio using Whisper\n",
        "import whisper\n",
        "\n",
        "model = whisper.load_model(\"base\")  # Use 'tiny', 'base', 'small', etc.\n",
        "result = model.transcribe(audio_file)\n",
        "\n",
        "# 📝 Display the transcript\n",
        "print(result['text'])\n"
      ]
    }
  ],
  "metadata": {
    "colab": {
      "provenance": [],
      "include_colab_link": true
    }
  },
  "nbformat": 4,
  "nbformat_minor": 5
}