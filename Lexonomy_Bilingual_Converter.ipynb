{
  "cells": [
    {
      "cell_type": "markdown",
      "metadata": {
        "id": "view-in-github",
        "colab_type": "text"
      },
      "source": [
        "<a href=\"https://colab.research.google.com/github/anokhina-rgb/Multilingual-Corpus-for-EU-Studies/blob/main/Lexonomy_Bilingual_Converter.ipynb\" target=\"_parent\"><img src=\"https://colab.research.google.com/assets/colab-badge.svg\" alt=\"Open In Colab\"/></a>"
      ]
    },
    {
      "cell_type": "code",
      "execution_count": null,
      "id": "install-requirements",
      "metadata": {
        "id": "install-requirements"
      },
      "outputs": [],
      "source": [
        "# Step 1: Install required libraries\n",
        "!pip install -q spacy lxml\n",
        "!python -m spacy download en_core_web_sm"
      ]
    },
    {
      "cell_type": "code",
      "execution_count": null,
      "id": "import-libraries",
      "metadata": {
        "id": "import-libraries"
      },
      "outputs": [],
      "source": [
        "# Step 2: Import libraries\n",
        "import spacy\n",
        "import xml.etree.ElementTree as ET\n",
        "from google.colab import files\n",
        "import io"
      ]
    },
    {
      "cell_type": "code",
      "execution_count": null,
      "id": "load-spacy",
      "metadata": {
        "id": "load-spacy"
      },
      "outputs": [],
      "source": [
        "# Step 3: Load spaCy model\n",
        "nlp = spacy.load(\"en_core_web_sm\")"
      ]
    },
    {
      "cell_type": "code",
      "execution_count": null,
      "id": "upload-files",
      "metadata": {
        "id": "upload-files"
      },
      "outputs": [],
      "source": [
        "# Step 4: Upload two files: English and Ukrainian\n",
        "print(\"🔁 Upload English text file:\")\n",
        "uploaded = files.upload()\n",
        "eng_filename = next(iter(uploaded))\n",
        "eng_text = uploaded[eng_filename].decode('utf-8')\n",
        "\n",
        "print(\"🔁 Upload Ukrainian translation file:\")\n",
        "uploaded = files.upload()\n",
        "ukr_filename = next(iter(uploaded))\n",
        "ukr_text = uploaded[ukr_filename].decode('utf-8')"
      ]
    },
    {
      "cell_type": "code",
      "execution_count": null,
      "id": "split-texts",
      "metadata": {
        "id": "split-texts"
      },
      "outputs": [],
      "source": [
        "# Step 5: Split both texts into sentences\n",
        "eng_doc = nlp(eng_text)\n",
        "ukr_doc = list(filter(None, ukr_text.strip().split('\\n')))\n",
        "\n",
        "eng_sentences = [sent.text.strip() for sent in eng_doc.sents]\n",
        "ukr_sentences = [s.strip() for s in ukr_doc if s.strip()]"
      ]
    },
    {
      "cell_type": "code",
      "execution_count": null,
      "id": "align-sentences",
      "metadata": {
        "id": "align-sentences"
      },
      "outputs": [],
      "source": [
        "# Step 6: Ensure lengths match\n",
        "min_len = min(len(eng_sentences), len(ukr_sentences))\n",
        "eng_sentences = eng_sentences[:min_len]\n",
        "ukr_sentences = ukr_sentences[:min_len]"
      ]
    },
    {
      "cell_type": "code",
      "execution_count": null,
      "id": "build-xml",
      "metadata": {
        "id": "build-xml"
      },
      "outputs": [],
      "source": [
        "# Step 7: Build XML\n",
        "def build_bilingual_xml(eng_sents, ukr_sents):\n",
        "    root = ET.Element(\"dictionary\")\n",
        "    for en, uk in zip(eng_sents, ukr_sents):\n",
        "        entry = ET.SubElement(root, \"entry\")\n",
        "        ET.SubElement(entry, \"form\").text = en\n",
        "        ET.SubElement(entry, \"translation\").text = uk\n",
        "    return ET.ElementTree(root)\n",
        "\n",
        "xml_tree = build_bilingual_xml(eng_sentences, ukr_sentences)"
      ]
    },
    {
      "cell_type": "code",
      "execution_count": null,
      "id": "save-xml",
      "metadata": {
        "id": "save-xml"
      },
      "outputs": [],
      "source": [
        "# Step 8: Save to file\n",
        "output_file = \"lexonomy_dictionary.xml\"\n",
        "xml_tree.write(output_file, encoding='utf-8', xml_declaration=True)\n",
        "print(\"✅ Dictionary created as:\", output_file)"
      ]
    },
    {
      "cell_type": "code",
      "execution_count": null,
      "id": "download-xml",
      "metadata": {
        "id": "download-xml"
      },
      "outputs": [],
      "source": [
        "# Step 9: Download the XML file\n",
        "files.download(output_file)"
      ]
    }
  ],
  "metadata": {
    "kernelspec": {
      "display_name": "Python 3",
      "language": "python",
      "name": "python3"
    },
    "language_info": {
      "name": "python",
      "version": "3.8"
    },
    "colab": {
      "provenance": [],
      "include_colab_link": true
    }
  },
  "nbformat": 4,
  "nbformat_minor": 5
}