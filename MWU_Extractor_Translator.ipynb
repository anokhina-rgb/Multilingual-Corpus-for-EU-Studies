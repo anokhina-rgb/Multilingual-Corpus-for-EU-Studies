{
  "cells": [
    {
      "cell_type": "markdown",
      "metadata": {
        "id": "view-in-github",
        "colab_type": "text"
      },
      "source": [
        "<a href=\"https://colab.research.google.com/github/anokhina-rgb/Multilingual-Corpus-for-EU-Studies/blob/main/MWU_Extractor_Translator.ipynb\" target=\"_parent\"><img src=\"https://colab.research.google.com/assets/colab-badge.svg\" alt=\"Open In Colab\"/></a>"
      ]
    },
    {
      "cell_type": "code",
      "execution_count": null,
      "id": "d2f02ad7",
      "metadata": {
        "id": "d2f02ad7"
      },
      "outputs": [],
      "source": [
        "# Step 1: Install required packages\n",
        "!pip install -q spacy lxml\n",
        "!python -m spacy download en_core_web_sm\n"
      ]
    },
    {
      "cell_type": "code",
      "execution_count": null,
      "id": "cd87afaa",
      "metadata": {
        "id": "cd87afaa"
      },
      "outputs": [],
      "source": [
        "# Step 2: Import libraries and define helper functions\n",
        "import spacy\n",
        "import requests\n",
        "import xml.etree.ElementTree as ET\n",
        "from google.colab import files\n",
        "import io\n",
        "\n",
        "nlp = spacy.load(\"en_core_web_sm\")\n",
        "\n",
        "def get_translation_mymemory(text):\n",
        "    try:\n",
        "        response = requests.get(\n",
        "            \"https://api.mymemory.translated.net/get\",\n",
        "            params={'q': text, 'langpair': 'en|uk'}\n",
        "        )\n",
        "        data = response.json()\n",
        "        return data['responseData']['translatedText']\n",
        "    except Exception as e:\n",
        "        return f\"(error: {e})\"\n",
        "\n",
        "def extract_mwus_and_sentences(text):\n",
        "    doc = nlp(text)\n",
        "    results = []\n",
        "\n",
        "    for sent in doc.sents:\n",
        "        mwus = set(chunk.text for chunk in sent.noun_chunks if len(chunk.text.split()) > 1)\n",
        "        for mwu in mwus:\n",
        "            results.append((mwu.strip(), sent.text.strip()))\n",
        "\n",
        "    return results\n",
        "\n",
        "def build_xml(entries):\n",
        "    root = ET.Element(\"dictionary\")\n",
        "    for mwu, sentence in entries:\n",
        "        translation = get_translation_mymemory(mwu)\n",
        "\n",
        "        entry = ET.SubElement(root, \"entry\")\n",
        "        ET.SubElement(entry, \"headword\").text = mwu\n",
        "        ET.SubElement(entry, \"definition\").text = translation\n",
        "        ET.SubElement(entry, \"illustration\").text = sentence\n",
        "\n",
        "    tree = ET.ElementTree(root)\n",
        "    return tree\n"
      ]
    },
    {
      "cell_type": "code",
      "execution_count": null,
      "id": "9c382d27",
      "metadata": {
        "id": "9c382d27"
      },
      "outputs": [],
      "source": [
        "# Step 3: Upload your .txt file\n",
        "uploaded = files.upload()\n",
        "filename = next(iter(uploaded))\n",
        "text = uploaded[filename].decode('utf-8')\n",
        "\n",
        "# Extract MWUs and build XML\n",
        "entries = extract_mwus_and_sentences(text)\n",
        "xml_tree = build_xml(entries)\n",
        "\n",
        "# Save to XML file\n",
        "output_name = \"mwu_dictionary.xml\"\n",
        "xml_tree.write(output_name, encoding='utf-8', xml_declaration=True)\n",
        "print(\"✅ XML created:\", output_name)\n"
      ]
    },
    {
      "cell_type": "code",
      "execution_count": null,
      "id": "6b3c40c4",
      "metadata": {
        "id": "6b3c40c4"
      },
      "outputs": [],
      "source": [
        "# Step 4: Download the generated XML file\n",
        "files.download(output_name)\n"
      ]
    }
  ],
  "metadata": {
    "colab": {
      "provenance": [],
      "include_colab_link": true
    },
    "language_info": {
      "name": "python"
    },
    "kernelspec": {
      "name": "python3",
      "display_name": "Python 3"
    }
  },
  "nbformat": 4,
  "nbformat_minor": 5
}