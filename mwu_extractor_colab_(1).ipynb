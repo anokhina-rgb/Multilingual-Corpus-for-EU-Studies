{
  "cells": [
    {
      "cell_type": "markdown",
      "metadata": {
        "id": "view-in-github",
        "colab_type": "text"
      },
      "source": [
        "<a href=\"https://colab.research.google.com/github/anokhina-rgb/Multilingual-Corpus-for-EU-Studies/blob/main/mwu_extractor_colab_(1).ipynb\" target=\"_parent\"><img src=\"https://colab.research.google.com/assets/colab-badge.svg\" alt=\"Open In Colab\"/></a>"
      ]
    },
    {
      "cell_type": "markdown",
      "id": "67dc19f0",
      "metadata": {
        "id": "67dc19f0"
      },
      "source": [
        "# MWU Extractor Notebook\n",
        "This notebook provides a GUI in Google Colab to extract multi-word units (MWUs) from raw text: **ADJ + NOUN** and **NOUN + VERB + ADVERB**, and export them as Lexonomy-compatible XML."
      ]
    },
    {
      "cell_type": "code",
      "execution_count": null,
      "id": "f857647b",
      "metadata": {
        "id": "f857647b"
      },
      "outputs": [],
      "source": [
        "!pip install -q spacy lxml ipywidgets\n",
        "!python -m spacy download en_core_web_sm\n"
      ]
    },
    {
      "cell_type": "code",
      "execution_count": null,
      "id": "d2b21064",
      "metadata": {
        "id": "d2b21064"
      },
      "outputs": [],
      "source": [
        "import spacy\n",
        "from lxml import etree\n",
        "import ipywidgets as widgets\n",
        "from IPython.display import display, clear_output\n",
        "from google.colab import files\n",
        "\n",
        "# Load spaCy model\n",
        "nlp = spacy.load(\"en_core_web_sm\")\n"
      ]
    },
    {
      "cell_type": "code",
      "execution_count": null,
      "id": "6e25d5be",
      "metadata": {
        "id": "6e25d5be"
      },
      "outputs": [],
      "source": [
        "def extract_mwus(text):\n",
        "    doc = nlp(text)\n",
        "    mwus = []\n",
        "    # ADJ + NOUN\n",
        "    for i in range(len(doc)-1):\n",
        "        if doc[i].tag_.startswith(\"JJ\") and doc[i+1].tag_.startswith(\"NN\"):\n",
        "            mwus.append((f\"{doc[i].text} {doc[i+1].text}\", \"ADJ+NOUN\"))\n",
        "    # NOUN + VERB + ADVERB\n",
        "    for i in range(len(doc)-2):\n",
        "        if (doc[i].tag_.startswith(\"NN\") and\n",
        "            doc[i+1].tag_.startswith(\"VB\") and\n",
        "            doc[i+2].tag_.startswith(\"RB\")):\n",
        "            mwus.append((f\"{doc[i].text} {doc[i+1].text} {doc[i+2].text}\", \"NOUN+VERB+ADVERB\"))\n",
        "    return mwus\n",
        "\n",
        "def make_xml(mwus):\n",
        "    root = etree.Element(\"lexonomy\")\n",
        "    for text, pattern in mwus:\n",
        "        e = etree.SubElement(root, \"entry\")\n",
        "        form = etree.SubElement(e, \"form\")\n",
        "        orth = etree.SubElement(form, \"orth\")\n",
        "        orth.text = text\n",
        "        gramGrp = etree.SubElement(e, \"gramGrp\")\n",
        "        gram = etree.SubElement(gramGrp, \"gram\", type=\"pattern\")\n",
        "        gram.text = pattern\n",
        "    return etree.tostring(root, pretty_print=True, xml_declaration=True, encoding=\"UTF-8\")\n"
      ]
    },
    {
      "cell_type": "code",
      "execution_count": null,
      "id": "f6dbb709",
      "metadata": {
        "id": "f6dbb709"
      },
      "outputs": [],
      "source": [
        "# Create widgets\n",
        "upload_widget = widgets.FileUpload(accept='.txt', multiple=False, description=\"Upload .txt\")\n",
        "text_area = widgets.Textarea(value='', placeholder='Your text will appear here...', description='Text:', layout=widgets.Layout(width='100%', height='200px'))\n",
        "process_button = widgets.Button(description=\"Process Text\", button_style='primary')\n",
        "download_button = widgets.Button(description=\"Download XML\", button_style='success', disabled=True)\n",
        "output_area = widgets.Output()\n",
        "\n",
        "# Handlers\n",
        "def on_upload(change):\n",
        "    if upload_widget.value:\n",
        "        content = list(upload_widget.value.values())[0]['content'].decode('utf-8')\n",
        "        text_area.value = content\n",
        "        output_area.clear_output()\n",
        "        download_button.disabled = True\n",
        "\n",
        "def on_process(_):\n",
        "    output_area.clear_output()\n",
        "    mwus = extract_mwus(text_area.value)\n",
        "    with output_area:\n",
        "        if mwus:\n",
        "            print(\"Extracted MWUs:\")\n",
        "            for m, p in mwus:\n",
        "                print(f\" • {m}  ({p})\")\n",
        "            download_button.disabled = False\n",
        "            download_button.mwus = mwus\n",
        "        else:\n",
        "            print(\"No MWUs found.\")\n",
        "\n",
        "def on_download(_):\n",
        "    mwus = download_button.mwus\n",
        "    xml_data = make_xml(mwus)\n",
        "    with open(\"mwus_output.xml\", \"wb\") as f:\n",
        "        f.write(xml_data)\n",
        "    files.download(\"mwus_output.xml\")\n",
        "\n",
        "# Link handlers\n",
        "upload_widget.observe(on_upload, names='value')\n",
        "process_button.on_click(on_process)\n",
        "download_button.on_click(on_download)\n",
        "\n",
        "# Display GUI\n",
        "display(widgets.VBox([\n",
        "    upload_widget,\n",
        "    text_area,\n",
        "    widgets.HBox([process_button, download_button]),\n",
        "    output_area\n",
        "]))\n"
      ]
    }
  ],
  "metadata": {
    "colab": {
      "provenance": [],
      "include_colab_link": true
    }
  },
  "nbformat": 4,
  "nbformat_minor": 5
}