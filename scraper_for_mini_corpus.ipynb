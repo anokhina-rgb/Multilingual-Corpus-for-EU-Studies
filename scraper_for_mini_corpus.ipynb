{
  "nbformat": 4,
  "nbformat_minor": 0,
  "metadata": {
    "colab": {
      "provenance": [],
      "authorship_tag": "ABX9TyP0oF014Opp3YuakZABPl88",
      "include_colab_link": true
    },
    "kernelspec": {
      "name": "python3",
      "display_name": "Python 3"
    },
    "language_info": {
      "name": "python"
    }
  },
  "cells": [
    {
      "cell_type": "markdown",
      "metadata": {
        "id": "view-in-github",
        "colab_type": "text"
      },
      "source": [
        "<a href=\"https://colab.research.google.com/github/anokhina-rgb/Multilingual-Corpus-for-EU-Studies/blob/main/scraper_for_mini_corpus.ipynb\" target=\"_parent\"><img src=\"https://colab.research.google.com/assets/colab-badge.svg\" alt=\"Open In Colab\"/></a>"
      ]
    },
    {
      "cell_type": "code",
      "execution_count": 3,
      "metadata": {
        "colab": {
          "base_uri": "https://localhost:8080/"
        },
        "id": "w0ufDuyev1XQ",
        "outputId": "41670bca-86b7-4203-f734-1077f39161ca"
      },
      "outputs": [
        {
          "output_type": "stream",
          "name": "stdout",
          "text": [
            "[INFO] Fetching articles from: https://www.euronews.com/tag/javier-milei\n",
            "[INFO] Status code: 200\n",
            "\n",
            "[INFO] Fetching article 1: https://www.euronews.com/my-europe/2025/05/23/leader-of-neo-nazi-death-cult-extradited-to-us-for-plot-to-poison-jewish-children\n",
            "[INFO] Article status: 200\n",
            "[INFO] Saved TXT: /content/2025-05-23-milei-articles/leader-of-neo-nazi-death-cult-extradited-to-us-for.txt\n",
            "[INFO] Saved JSON: /content/2025-05-23-milei-articles/leader-of-neo-nazi-death-cult-extradited-to-us-for.json\n",
            "\n",
            "[INFO] Fetching article 2: https://www.euronews.com/my-europe/2025/05/23/iran-us-nuclear-talks-made-some-but-not-conclusive-progress-mediator-oman-says\n",
            "[INFO] Article status: 200\n",
            "[INFO] Saved TXT: /content/2025-05-23-milei-articles/iran-us-nuclear-talks-made-some-but-not-conclusiv.txt\n",
            "[INFO] Saved JSON: /content/2025-05-23-milei-articles/iran-us-nuclear-talks-made-some-but-not-conclusiv.json\n",
            "\n",
            "[INFO] Fetching article 3: https://www.euronews.com/my-europe/2025/05/23/several-injured-in-knife-attack-at-hamburg-train-station-german-police-say\n",
            "[INFO] Article status: 200\n",
            "[WARNING] No article body found\n",
            "\n",
            "[INFO] Fetching article 4: https://www.euronews.com/news/africa/libya\n",
            "[INFO] Article status: 200\n",
            "[WARNING] No article body found\n",
            "\n",
            "[INFO] Fetching article 5: https://www.euronews.com/2025/05/23/at-least-seven-sudanese-migrants-found-dead-after-being-stranded-in-libyan-desert\n",
            "[INFO] Article status: 200\n",
            "[INFO] Saved TXT: /content/2025-05-23-milei-articles/at-least-seven-sudanese-migrants-found-dead-after-.txt\n",
            "[INFO] Saved JSON: /content/2025-05-23-milei-articles/at-least-seven-sudanese-migrants-found-dead-after-.json\n",
            "\n",
            "✅ Done. Articles saved to: /content/2025-05-23-milei-articles\n"
          ]
        }
      ],
      "source": [
        "import os\n",
        "import re\n",
        "import json\n",
        "import csv\n",
        "import requests\n",
        "from bs4 import BeautifulSoup\n",
        "from datetime import datetime\n",
        "\n",
        "def sanitize_filename(title):\n",
        "    # Allow only letters, numbers, and dashes; limit length to 50 chars\n",
        "    return re.sub(r'[^a-zA-Z0-9-]', '', '-'.join(title.lower().strip().split())[:50])\n",
        "\n",
        "def scrape_milei_articles():\n",
        "    today = datetime.now().strftime('%Y-%m-%d')\n",
        "    folder_path = f'/content/{today}-milei-articles'\n",
        "    os.makedirs(folder_path, exist_ok=True)\n",
        "\n",
        "    search_url = \"https://www.euronews.com/tag/javier-milei\"\n",
        "    headers = {\n",
        "        \"User-Agent\": \"Mozilla/5.0 (Windows NT 10.0; Win64; x64)\",\n",
        "        \"Accept-Language\": \"en-US,en;q=0.9\"\n",
        "    }\n",
        "\n",
        "    try:\n",
        "        print(f\"[INFO] Fetching articles from: {search_url}\")\n",
        "        response = requests.get(search_url, headers=headers)\n",
        "        print(f\"[INFO] Status code: {response.status_code}\")\n",
        "\n",
        "        if response.status_code != 200:\n",
        "            raise Exception(f\"Failed to load page (status {response.status_code})\")\n",
        "\n",
        "        soup = BeautifulSoup(response.text, \"html.parser\")\n",
        "\n",
        "        # Select article links - adjust selector if necessary\n",
        "        articles = soup.select(\"article a[href^='/']\")[:5]\n",
        "\n",
        "        if not articles:\n",
        "            raise Exception(\"No articles found. Website structure may have changed.\")\n",
        "\n",
        "        links = [\"https://www.euronews.com\" + a['href'] for a in articles]\n",
        "        all_rows = []  # For CSV export\n",
        "\n",
        "        for i, link in enumerate(links):\n",
        "            print(f\"\\n[INFO] Fetching article {i+1}: {link}\")\n",
        "            art = requests.get(link, headers=headers)\n",
        "            print(f\"[INFO] Article status: {art.status_code}\")\n",
        "\n",
        "            if art.status_code != 200:\n",
        "                print(f\"[WARNING] Failed to fetch article {i+1}\")\n",
        "                continue\n",
        "\n",
        "            art_soup = BeautifulSoup(art.text, \"html.parser\")\n",
        "\n",
        "            title_tag = art_soup.find(\"h1\")\n",
        "            title = title_tag.get_text(strip=True) if title_tag else \"No Title\"\n",
        "\n",
        "            author_tag = art_soup.find(\"span\", class_=\"c-article-author__name\")\n",
        "            author = author_tag.get_text(strip=True) if author_tag else \"Unknown Author\"\n",
        "\n",
        "            date_tag = art_soup.find(\"time\")\n",
        "            date_text = date_tag.get(\"datetime\") if date_tag else \"\"\n",
        "            try:\n",
        "                pub_date = datetime.fromisoformat(date_text).strftime(\"%d %B %Y\")\n",
        "            except Exception:\n",
        "                pub_date = \"Unknown Date\"\n",
        "\n",
        "            paragraphs = art_soup.select(\"div.c-article-content p\")\n",
        "            content = \"\\n\".join([p.get_text(strip=True) for p in paragraphs])\n",
        "            if not content:\n",
        "                print(\"[WARNING] No article body found\")\n",
        "                continue\n",
        "\n",
        "            filename_key = sanitize_filename(title)\n",
        "\n",
        "            # TXT export\n",
        "            txt_file = os.path.join(folder_path, f'{filename_key}.txt')\n",
        "            with open(txt_file, 'w', encoding='utf-8') as f:\n",
        "                f.write(f\"TITLE: {title}\\n\")\n",
        "                f.write(f\"AUTHOR: {author}\\n\")\n",
        "                f.write(f\"DATE: {pub_date}\\n\")\n",
        "                f.write(f\"URL: {link}\\n\\n\")\n",
        "                f.write(content)\n",
        "            print(f\"[INFO] Saved TXT: {txt_file}\")\n",
        "\n",
        "            # JSON export\n",
        "            json_file = os.path.join(folder_path, f'{filename_key}.json')\n",
        "            with open(json_file, 'w', encoding='utf-8') as f:\n",
        "                json.dump({\n",
        "                    \"title\": title,\n",
        "                    \"author\": author,\n",
        "                    \"date\": pub_date,\n",
        "                    \"url\": link,\n",
        "                    \"content\": content\n",
        "                }, f, ensure_ascii=False, indent=2)\n",
        "            print(f\"[INFO] Saved JSON: {json_file}\")\n",
        "\n",
        "            # Append for CSV\n",
        "            all_rows.append([title, author, pub_date, link, content])\n",
        "\n",
        "        # CSV export\n",
        "        csv_file = os.path.join(folder_path, f'{today}_milei_articles.csv')\n",
        "        with open(csv_file, 'w', encoding='utf-8', newline='') as f:\n",
        "            writer = csv.writer(f)\n",
        "            writer.writerow([\"Title\", \"Author\", \"Date\", \"URL\", \"Content\"])\n",
        "            writer.writerows(all_rows)\n",
        "        print(f\"\\n✅ Done. Articles saved to: {folder_path}\")\n",
        "\n",
        "        return folder_path  # Return folder path for convenience\n",
        "\n",
        "    except Exception as e:\n",
        "        print(f\"[ERROR] {str(e)}\")\n",
        "\n",
        "# Run scraper\n",
        "folder = scrape_milei_articles()\n",
        "\n"
      ]
    },
    {
      "cell_type": "code",
      "source": [
        "from google.colab import files\n",
        "import os\n",
        "\n",
        "for file in os.listdir(folder):\n",
        "    files.download(os.path.join(folder, file))\n"
      ],
      "metadata": {
        "colab": {
          "base_uri": "https://localhost:8080/",
          "height": 17
        },
        "id": "gGHZ3W7-w0zz",
        "outputId": "218940a7-250c-4374-f39e-71be41cad0d4"
      },
      "execution_count": 4,
      "outputs": [
        {
          "output_type": "display_data",
          "data": {
            "text/plain": [
              "<IPython.core.display.Javascript object>"
            ],
            "application/javascript": [
              "\n",
              "    async function download(id, filename, size) {\n",
              "      if (!google.colab.kernel.accessAllowed) {\n",
              "        return;\n",
              "      }\n",
              "      const div = document.createElement('div');\n",
              "      const label = document.createElement('label');\n",
              "      label.textContent = `Downloading \"${filename}\": `;\n",
              "      div.appendChild(label);\n",
              "      const progress = document.createElement('progress');\n",
              "      progress.max = size;\n",
              "      div.appendChild(progress);\n",
              "      document.body.appendChild(div);\n",
              "\n",
              "      const buffers = [];\n",
              "      let downloaded = 0;\n",
              "\n",
              "      const channel = await google.colab.kernel.comms.open(id);\n",
              "      // Send a message to notify the kernel that we're ready.\n",
              "      channel.send({})\n",
              "\n",
              "      for await (const message of channel.messages) {\n",
              "        // Send a message to notify the kernel that we're ready.\n",
              "        channel.send({})\n",
              "        if (message.buffers) {\n",
              "          for (const buffer of message.buffers) {\n",
              "            buffers.push(buffer);\n",
              "            downloaded += buffer.byteLength;\n",
              "            progress.value = downloaded;\n",
              "          }\n",
              "        }\n",
              "      }\n",
              "      const blob = new Blob(buffers, {type: 'application/binary'});\n",
              "      const a = document.createElement('a');\n",
              "      a.href = window.URL.createObjectURL(blob);\n",
              "      a.download = filename;\n",
              "      div.appendChild(a);\n",
              "      a.click();\n",
              "      div.remove();\n",
              "    }\n",
              "  "
            ]
          },
          "metadata": {}
        },
        {
          "output_type": "display_data",
          "data": {
            "text/plain": [
              "<IPython.core.display.Javascript object>"
            ],
            "application/javascript": [
              "download(\"download_beaa6cfc-a2f4-4f53-b26e-0971fda035a9\", \"2025-05-23_milei_articles.csv\", 9362)"
            ]
          },
          "metadata": {}
        },
        {
          "output_type": "display_data",
          "data": {
            "text/plain": [
              "<IPython.core.display.Javascript object>"
            ],
            "application/javascript": [
              "\n",
              "    async function download(id, filename, size) {\n",
              "      if (!google.colab.kernel.accessAllowed) {\n",
              "        return;\n",
              "      }\n",
              "      const div = document.createElement('div');\n",
              "      const label = document.createElement('label');\n",
              "      label.textContent = `Downloading \"${filename}\": `;\n",
              "      div.appendChild(label);\n",
              "      const progress = document.createElement('progress');\n",
              "      progress.max = size;\n",
              "      div.appendChild(progress);\n",
              "      document.body.appendChild(div);\n",
              "\n",
              "      const buffers = [];\n",
              "      let downloaded = 0;\n",
              "\n",
              "      const channel = await google.colab.kernel.comms.open(id);\n",
              "      // Send a message to notify the kernel that we're ready.\n",
              "      channel.send({})\n",
              "\n",
              "      for await (const message of channel.messages) {\n",
              "        // Send a message to notify the kernel that we're ready.\n",
              "        channel.send({})\n",
              "        if (message.buffers) {\n",
              "          for (const buffer of message.buffers) {\n",
              "            buffers.push(buffer);\n",
              "            downloaded += buffer.byteLength;\n",
              "            progress.value = downloaded;\n",
              "          }\n",
              "        }\n",
              "      }\n",
              "      const blob = new Blob(buffers, {type: 'application/binary'});\n",
              "      const a = document.createElement('a');\n",
              "      a.href = window.URL.createObjectURL(blob);\n",
              "      a.download = filename;\n",
              "      div.appendChild(a);\n",
              "      a.click();\n",
              "      div.remove();\n",
              "    }\n",
              "  "
            ]
          },
          "metadata": {}
        },
        {
          "output_type": "display_data",
          "data": {
            "text/plain": [
              "<IPython.core.display.Javascript object>"
            ],
            "application/javascript": [
              "download(\"download_b9c966fc-0658-4611-abc7-3cc052bbd484\", \"iran-us-nuclear-talks-made-some-but-not-conclusiv.json\", 4693)"
            ]
          },
          "metadata": {}
        },
        {
          "output_type": "display_data",
          "data": {
            "text/plain": [
              "<IPython.core.display.Javascript object>"
            ],
            "application/javascript": [
              "\n",
              "    async function download(id, filename, size) {\n",
              "      if (!google.colab.kernel.accessAllowed) {\n",
              "        return;\n",
              "      }\n",
              "      const div = document.createElement('div');\n",
              "      const label = document.createElement('label');\n",
              "      label.textContent = `Downloading \"${filename}\": `;\n",
              "      div.appendChild(label);\n",
              "      const progress = document.createElement('progress');\n",
              "      progress.max = size;\n",
              "      div.appendChild(progress);\n",
              "      document.body.appendChild(div);\n",
              "\n",
              "      const buffers = [];\n",
              "      let downloaded = 0;\n",
              "\n",
              "      const channel = await google.colab.kernel.comms.open(id);\n",
              "      // Send a message to notify the kernel that we're ready.\n",
              "      channel.send({})\n",
              "\n",
              "      for await (const message of channel.messages) {\n",
              "        // Send a message to notify the kernel that we're ready.\n",
              "        channel.send({})\n",
              "        if (message.buffers) {\n",
              "          for (const buffer of message.buffers) {\n",
              "            buffers.push(buffer);\n",
              "            downloaded += buffer.byteLength;\n",
              "            progress.value = downloaded;\n",
              "          }\n",
              "        }\n",
              "      }\n",
              "      const blob = new Blob(buffers, {type: 'application/binary'});\n",
              "      const a = document.createElement('a');\n",
              "      a.href = window.URL.createObjectURL(blob);\n",
              "      a.download = filename;\n",
              "      div.appendChild(a);\n",
              "      a.click();\n",
              "      div.remove();\n",
              "    }\n",
              "  "
            ]
          },
          "metadata": {}
        },
        {
          "output_type": "display_data",
          "data": {
            "text/plain": [
              "<IPython.core.display.Javascript object>"
            ],
            "application/javascript": [
              "download(\"download_96b3cf9a-aa70-40a3-be1c-1c5bcb2e54af\", \"iran-us-nuclear-talks-made-some-but-not-conclusiv.txt\", 4599)"
            ]
          },
          "metadata": {}
        },
        {
          "output_type": "display_data",
          "data": {
            "text/plain": [
              "<IPython.core.display.Javascript object>"
            ],
            "application/javascript": [
              "\n",
              "    async function download(id, filename, size) {\n",
              "      if (!google.colab.kernel.accessAllowed) {\n",
              "        return;\n",
              "      }\n",
              "      const div = document.createElement('div');\n",
              "      const label = document.createElement('label');\n",
              "      label.textContent = `Downloading \"${filename}\": `;\n",
              "      div.appendChild(label);\n",
              "      const progress = document.createElement('progress');\n",
              "      progress.max = size;\n",
              "      div.appendChild(progress);\n",
              "      document.body.appendChild(div);\n",
              "\n",
              "      const buffers = [];\n",
              "      let downloaded = 0;\n",
              "\n",
              "      const channel = await google.colab.kernel.comms.open(id);\n",
              "      // Send a message to notify the kernel that we're ready.\n",
              "      channel.send({})\n",
              "\n",
              "      for await (const message of channel.messages) {\n",
              "        // Send a message to notify the kernel that we're ready.\n",
              "        channel.send({})\n",
              "        if (message.buffers) {\n",
              "          for (const buffer of message.buffers) {\n",
              "            buffers.push(buffer);\n",
              "            downloaded += buffer.byteLength;\n",
              "            progress.value = downloaded;\n",
              "          }\n",
              "        }\n",
              "      }\n",
              "      const blob = new Blob(buffers, {type: 'application/binary'});\n",
              "      const a = document.createElement('a');\n",
              "      a.href = window.URL.createObjectURL(blob);\n",
              "      a.download = filename;\n",
              "      div.appendChild(a);\n",
              "      a.click();\n",
              "      div.remove();\n",
              "    }\n",
              "  "
            ]
          },
          "metadata": {}
        },
        {
          "output_type": "display_data",
          "data": {
            "text/plain": [
              "<IPython.core.display.Javascript object>"
            ],
            "application/javascript": [
              "download(\"download_52074c60-cacd-4aaf-a2d3-449e76e8aabc\", \"leader-of-neo-nazi-death-cult-extradited-to-us-for.json\", 3037)"
            ]
          },
          "metadata": {}
        },
        {
          "output_type": "display_data",
          "data": {
            "text/plain": [
              "<IPython.core.display.Javascript object>"
            ],
            "application/javascript": [
              "\n",
              "    async function download(id, filename, size) {\n",
              "      if (!google.colab.kernel.accessAllowed) {\n",
              "        return;\n",
              "      }\n",
              "      const div = document.createElement('div');\n",
              "      const label = document.createElement('label');\n",
              "      label.textContent = `Downloading \"${filename}\": `;\n",
              "      div.appendChild(label);\n",
              "      const progress = document.createElement('progress');\n",
              "      progress.max = size;\n",
              "      div.appendChild(progress);\n",
              "      document.body.appendChild(div);\n",
              "\n",
              "      const buffers = [];\n",
              "      let downloaded = 0;\n",
              "\n",
              "      const channel = await google.colab.kernel.comms.open(id);\n",
              "      // Send a message to notify the kernel that we're ready.\n",
              "      channel.send({})\n",
              "\n",
              "      for await (const message of channel.messages) {\n",
              "        // Send a message to notify the kernel that we're ready.\n",
              "        channel.send({})\n",
              "        if (message.buffers) {\n",
              "          for (const buffer of message.buffers) {\n",
              "            buffers.push(buffer);\n",
              "            downloaded += buffer.byteLength;\n",
              "            progress.value = downloaded;\n",
              "          }\n",
              "        }\n",
              "      }\n",
              "      const blob = new Blob(buffers, {type: 'application/binary'});\n",
              "      const a = document.createElement('a');\n",
              "      a.href = window.URL.createObjectURL(blob);\n",
              "      a.download = filename;\n",
              "      div.appendChild(a);\n",
              "      a.click();\n",
              "      div.remove();\n",
              "    }\n",
              "  "
            ]
          },
          "metadata": {}
        },
        {
          "output_type": "display_data",
          "data": {
            "text/plain": [
              "<IPython.core.display.Javascript object>"
            ],
            "application/javascript": [
              "download(\"download_978c2c24-fc64-44d8-96f7-44dee359a9ce\", \"leader-of-neo-nazi-death-cult-extradited-to-us-for.txt\", 2963)"
            ]
          },
          "metadata": {}
        },
        {
          "output_type": "display_data",
          "data": {
            "text/plain": [
              "<IPython.core.display.Javascript object>"
            ],
            "application/javascript": [
              "\n",
              "    async function download(id, filename, size) {\n",
              "      if (!google.colab.kernel.accessAllowed) {\n",
              "        return;\n",
              "      }\n",
              "      const div = document.createElement('div');\n",
              "      const label = document.createElement('label');\n",
              "      label.textContent = `Downloading \"${filename}\": `;\n",
              "      div.appendChild(label);\n",
              "      const progress = document.createElement('progress');\n",
              "      progress.max = size;\n",
              "      div.appendChild(progress);\n",
              "      document.body.appendChild(div);\n",
              "\n",
              "      const buffers = [];\n",
              "      let downloaded = 0;\n",
              "\n",
              "      const channel = await google.colab.kernel.comms.open(id);\n",
              "      // Send a message to notify the kernel that we're ready.\n",
              "      channel.send({})\n",
              "\n",
              "      for await (const message of channel.messages) {\n",
              "        // Send a message to notify the kernel that we're ready.\n",
              "        channel.send({})\n",
              "        if (message.buffers) {\n",
              "          for (const buffer of message.buffers) {\n",
              "            buffers.push(buffer);\n",
              "            downloaded += buffer.byteLength;\n",
              "            progress.value = downloaded;\n",
              "          }\n",
              "        }\n",
              "      }\n",
              "      const blob = new Blob(buffers, {type: 'application/binary'});\n",
              "      const a = document.createElement('a');\n",
              "      a.href = window.URL.createObjectURL(blob);\n",
              "      a.download = filename;\n",
              "      div.appendChild(a);\n",
              "      a.click();\n",
              "      div.remove();\n",
              "    }\n",
              "  "
            ]
          },
          "metadata": {}
        },
        {
          "output_type": "display_data",
          "data": {
            "text/plain": [
              "<IPython.core.display.Javascript object>"
            ],
            "application/javascript": [
              "download(\"download_795dab34-7ab9-4327-98c9-a146b80cfbdb\", \"at-least-seven-sudanese-migrants-found-dead-after-.json\", 1851)"
            ]
          },
          "metadata": {}
        },
        {
          "output_type": "display_data",
          "data": {
            "text/plain": [
              "<IPython.core.display.Javascript object>"
            ],
            "application/javascript": [
              "\n",
              "    async function download(id, filename, size) {\n",
              "      if (!google.colab.kernel.accessAllowed) {\n",
              "        return;\n",
              "      }\n",
              "      const div = document.createElement('div');\n",
              "      const label = document.createElement('label');\n",
              "      label.textContent = `Downloading \"${filename}\": `;\n",
              "      div.appendChild(label);\n",
              "      const progress = document.createElement('progress');\n",
              "      progress.max = size;\n",
              "      div.appendChild(progress);\n",
              "      document.body.appendChild(div);\n",
              "\n",
              "      const buffers = [];\n",
              "      let downloaded = 0;\n",
              "\n",
              "      const channel = await google.colab.kernel.comms.open(id);\n",
              "      // Send a message to notify the kernel that we're ready.\n",
              "      channel.send({})\n",
              "\n",
              "      for await (const message of channel.messages) {\n",
              "        // Send a message to notify the kernel that we're ready.\n",
              "        channel.send({})\n",
              "        if (message.buffers) {\n",
              "          for (const buffer of message.buffers) {\n",
              "            buffers.push(buffer);\n",
              "            downloaded += buffer.byteLength;\n",
              "            progress.value = downloaded;\n",
              "          }\n",
              "        }\n",
              "      }\n",
              "      const blob = new Blob(buffers, {type: 'application/binary'});\n",
              "      const a = document.createElement('a');\n",
              "      a.href = window.URL.createObjectURL(blob);\n",
              "      a.download = filename;\n",
              "      div.appendChild(a);\n",
              "      a.click();\n",
              "      div.remove();\n",
              "    }\n",
              "  "
            ]
          },
          "metadata": {}
        },
        {
          "output_type": "display_data",
          "data": {
            "text/plain": [
              "<IPython.core.display.Javascript object>"
            ],
            "application/javascript": [
              "download(\"download_2020903f-f06f-46f8-81fa-a99e768d9f2c\", \"at-least-seven-sudanese-migrants-found-dead-after-.txt\", 1794)"
            ]
          },
          "metadata": {}
        }
      ]
    }
  ]
}