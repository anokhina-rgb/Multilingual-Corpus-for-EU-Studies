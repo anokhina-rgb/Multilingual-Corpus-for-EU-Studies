{
  "nbformat": 4,
  "nbformat_minor": 0,
  "metadata": {
    "colab": {
      "provenance": [],
      "authorship_tag": "ABX9TyOyM5dg8MipVvpQ84eDCopZ",
      "include_colab_link": true
    },
    "kernelspec": {
      "name": "python3",
      "display_name": "Python 3"
    },
    "language_info": {
      "name": "python"
    }
  },
  "cells": [
    {
      "cell_type": "markdown",
      "metadata": {
        "id": "view-in-github",
        "colab_type": "text"
      },
      "source": [
        "<a href=\"https://colab.research.google.com/github/anokhina-rgb/Multilingual-Corpus-for-EU-Studies/blob/main/mp3splitter.ipynb\" target=\"_parent\"><img src=\"https://colab.research.google.com/assets/colab-badge.svg\" alt=\"Open In Colab\"/></a>"
      ]
    },
    {
      "cell_type": "code",
      "execution_count": null,
      "metadata": {
        "colab": {
          "base_uri": "https://localhost:8080/",
          "height": 367
        },
        "id": "1aWq6ZaRfMB5",
        "outputId": "aa4f8683-bff7-4b63-f640-41b700d1ef74"
      },
      "outputs": [
        {
          "output_type": "stream",
          "name": "stdout",
          "text": [
            "Mounted at /content/drive\n",
            "Importing the dtw module. When using in academic works please cite:\n",
            "  T. Giorgino. Computing and Visualizing Dynamic Time Warping Alignments in R: The dtw Package.\n",
            "  J. Stat. Soft., doi:10.18637/jss.v031.i07.\n",
            "\n",
            "Loading Whisper model...\n"
          ]
        },
        {
          "output_type": "stream",
          "name": "stderr",
          "text": [
            "100%|████████████████████████████████████████| 139M/139M [00:01<00:00, 100MiB/s]\n"
          ]
        },
        {
          "output_type": "stream",
          "name": "stdout",
          "text": [
            "Model loaded.\n",
            "\n"
          ]
        },
        {
          "output_type": "error",
          "ename": "FileNotFoundError",
          "evalue": "[Errno 2] No such file or directory: '/content/drive/MyDrive/mp3_input'",
          "traceback": [
            "\u001b[0;31m---------------------------------------------------------------------------\u001b[0m",
            "\u001b[0;31mFileNotFoundError\u001b[0m                         Traceback (most recent call last)",
            "\u001b[0;32m/tmp/ipython-input-603372763.py\u001b[0m in \u001b[0;36m<cell line: 0>\u001b[0;34m()\u001b[0m\n\u001b[1;32m     29\u001b[0m \u001b[0;34m\u001b[0m\u001b[0m\n\u001b[1;32m     30\u001b[0m \u001b[0;31m# 6️⃣ Process all MP3 files\u001b[0m\u001b[0;34m\u001b[0m\u001b[0;34m\u001b[0m\u001b[0m\n\u001b[0;32m---> 31\u001b[0;31m \u001b[0mfiles\u001b[0m \u001b[0;34m=\u001b[0m \u001b[0;34m[\u001b[0m\u001b[0mf\u001b[0m \u001b[0;32mfor\u001b[0m \u001b[0mf\u001b[0m \u001b[0;32min\u001b[0m \u001b[0mos\u001b[0m\u001b[0;34m.\u001b[0m\u001b[0mlistdir\u001b[0m\u001b[0;34m(\u001b[0m\u001b[0minput_folder\u001b[0m\u001b[0;34m)\u001b[0m \u001b[0;32mif\u001b[0m \u001b[0mf\u001b[0m\u001b[0;34m.\u001b[0m\u001b[0mlower\u001b[0m\u001b[0;34m(\u001b[0m\u001b[0;34m)\u001b[0m\u001b[0;34m.\u001b[0m\u001b[0mendswith\u001b[0m\u001b[0;34m(\u001b[0m\u001b[0;34m\".mp3\"\u001b[0m\u001b[0;34m)\u001b[0m\u001b[0;34m]\u001b[0m\u001b[0;34m\u001b[0m\u001b[0;34m\u001b[0m\u001b[0m\n\u001b[0m\u001b[1;32m     32\u001b[0m \u001b[0;32mfor\u001b[0m \u001b[0midx\u001b[0m\u001b[0;34m,\u001b[0m \u001b[0mfile_name\u001b[0m \u001b[0;32min\u001b[0m \u001b[0menumerate\u001b[0m\u001b[0;34m(\u001b[0m\u001b[0mfiles\u001b[0m\u001b[0;34m,\u001b[0m \u001b[0;36m1\u001b[0m\u001b[0;34m)\u001b[0m\u001b[0;34m:\u001b[0m\u001b[0;34m\u001b[0m\u001b[0;34m\u001b[0m\u001b[0m\n\u001b[1;32m     33\u001b[0m     \u001b[0mprint\u001b[0m\u001b[0;34m(\u001b[0m\u001b[0;34mf\"Processing {file_name} ({idx}/{len(files)})...\"\u001b[0m\u001b[0;34m)\u001b[0m\u001b[0;34m\u001b[0m\u001b[0;34m\u001b[0m\u001b[0m\n",
            "\u001b[0;31mFileNotFoundError\u001b[0m: [Errno 2] No such file or directory: '/content/drive/MyDrive/mp3_input'"
          ]
        }
      ],
      "source": [
        "# 1️⃣ Install required packages\n",
        "!pip install -q pydub whisper-timestamped torch torchaudio\n",
        "\n",
        "# 2️⃣ Mount Google Drive (optional)\n",
        "from google.colab import drive\n",
        "drive.mount('/content/drive')\n",
        "\n",
        "# 3️⃣ Import libraries\n",
        "import os\n",
        "from pydub import AudioSegment\n",
        "import whisper_timestamped as whisper\n",
        "import torch\n",
        "\n",
        "# 4️⃣ User configuration\n",
        "# Change paths below: either local upload or Google Drive folder\n",
        "input_folder = \"/content/drive/MyDrive/mp3_input\"   # <-- your MP3 folder\n",
        "output_folder = \"/content/drive/MyDrive/mp3_output\" # <-- processed files will go here\n",
        "pause_seconds = 10  # pause between segments\n",
        "model_size = \"base\" # whisper model: tiny/base/small/medium\n",
        "device = \"cuda\" if torch.cuda.is_available() else \"cpu\"\n",
        "\n",
        "os.makedirs(output_folder, exist_ok=True)\n",
        "pause_ms = pause_seconds * 1000\n",
        "\n",
        "# 5️⃣ Load Whisper model\n",
        "print(\"Loading Whisper model...\")\n",
        "model = whisper.load_model(model_size, device=device)\n",
        "print(\"Model loaded.\\n\")\n",
        "\n",
        "# 6️⃣ Process all MP3 files\n",
        "files = [f for f in os.listdir(input_folder) if f.lower().endswith(\".mp3\")]\n",
        "for idx, file_name in enumerate(files, 1):\n",
        "    print(f\"Processing {file_name} ({idx}/{len(files)})...\")\n",
        "    in_path = os.path.join(input_folder, file_name)\n",
        "    out_path = os.path.join(output_folder, os.path.splitext(file_name)[0] + \"__pause.mp3\")\n",
        "\n",
        "    original = AudioSegment.from_file(in_path)\n",
        "    audio = whisper.load_audio(in_path)\n",
        "    result = whisper.transcribe(model, audio, language=None)\n",
        "    silence = AudioSegment.silent(duration=pause_ms)\n",
        "    final_audio = AudioSegment.empty()\n",
        "\n",
        "    segments = result.get(\"segments\", [])\n",
        "    if not segments:\n",
        "        final_audio = original\n",
        "    else:\n",
        "        for i, seg in enumerate(segments):\n",
        "            start_ms = int(seg[\"start\"] * 1000)\n",
        "            end_ms = int(seg[\"end\"] * 1000)\n",
        "            chunk = original[start_ms:end_ms]\n",
        "            final_audio += chunk\n",
        "            if i != len(segments) - 1:\n",
        "                final_audio += silence\n",
        "            print(f\"  Segment {i+1}/{len(segments)} processed\")\n",
        "\n",
        "    final_audio.export(out_path, format=\"mp3\")\n",
        "    print(f\"Saved: {out_path}\\n\")\n",
        "\n",
        "print(\"All files processed!\")\n"
      ]
    }
  ]
}