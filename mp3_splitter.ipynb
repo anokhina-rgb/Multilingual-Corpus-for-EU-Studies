{
  "nbformat": 4,
  "nbformat_minor": 0,
  "metadata": {
    "colab": {
      "provenance": [],
      "authorship_tag": "ABX9TyO+Hj7hL9U6wa5Ox3AY/olE",
      "include_colab_link": true
    },
    "kernelspec": {
      "name": "python3",
      "display_name": "Python 3"
    },
    "language_info": {
      "name": "python"
    }
  },
  "cells": [
    {
      "cell_type": "markdown",
      "metadata": {
        "id": "view-in-github",
        "colab_type": "text"
      },
      "source": [
        "<a href=\"https://colab.research.google.com/github/anokhina-rgb/Multilingual-Corpus-for-EU-Studies/blob/main/mp3_splitter.ipynb\" target=\"_parent\"><img src=\"https://colab.research.google.com/assets/colab-badge.svg\" alt=\"Open In Colab\"/></a>"
      ]
    },
    {
      "cell_type": "code",
      "execution_count": 1,
      "metadata": {
        "colab": {
          "base_uri": "https://localhost:8080/",
          "height": 992
        },
        "id": "Cn3kHQc6tD7H",
        "outputId": "4f890da4-c70d-498a-d059-c0e986413a20"
      },
      "outputs": [
        {
          "output_type": "stream",
          "name": "stdout",
          "text": [
            "  Installing build dependencies ... \u001b[?25l\u001b[?25hdone\n",
            "  Getting requirements to build wheel ... \u001b[?25l\u001b[?25hdone\n",
            "  Preparing metadata (pyproject.toml) ... \u001b[?25l\u001b[?25hdone\n",
            "\u001b[2K   \u001b[90m━━━━━━━━━━━━━━━━━━━━━━━━━━━━━━━━━━━━━━━━\u001b[0m \u001b[32m363.4/363.4 MB\u001b[0m \u001b[31m4.0 MB/s\u001b[0m eta \u001b[36m0:00:00\u001b[0m\n",
            "\u001b[2K   \u001b[90m━━━━━━━━━━━━━━━━━━━━━━━━━━━━━━━━━━━━━━━━\u001b[0m \u001b[32m13.8/13.8 MB\u001b[0m \u001b[31m101.3 MB/s\u001b[0m eta \u001b[36m0:00:00\u001b[0m\n",
            "\u001b[2K   \u001b[90m━━━━━━━━━━━━━━━━━━━━━━━━━━━━━━━━━━━━━━━━\u001b[0m \u001b[32m24.6/24.6 MB\u001b[0m \u001b[31m76.4 MB/s\u001b[0m eta \u001b[36m0:00:00\u001b[0m\n",
            "\u001b[2K   \u001b[90m━━━━━━━━━━━━━━━━━━━━━━━━━━━━━━━━━━━━━━━━\u001b[0m \u001b[32m883.7/883.7 kB\u001b[0m \u001b[31m48.8 MB/s\u001b[0m eta \u001b[36m0:00:00\u001b[0m\n",
            "\u001b[2K   \u001b[90m━━━━━━━━━━━━━━━━━━━━━━━━━━━━━━━━━━━━━━━━\u001b[0m \u001b[32m664.8/664.8 MB\u001b[0m \u001b[31m2.2 MB/s\u001b[0m eta \u001b[36m0:00:00\u001b[0m\n",
            "\u001b[2K   \u001b[90m━━━━━━━━━━━━━━━━━━━━━━━━━━━━━━━━━━━━━━━━\u001b[0m \u001b[32m211.5/211.5 MB\u001b[0m \u001b[31m5.4 MB/s\u001b[0m eta \u001b[36m0:00:00\u001b[0m\n",
            "\u001b[2K   \u001b[90m━━━━━━━━━━━━━━━━━━━━━━━━━━━━━━━━━━━━━━━━\u001b[0m \u001b[32m56.3/56.3 MB\u001b[0m \u001b[31m15.6 MB/s\u001b[0m eta \u001b[36m0:00:00\u001b[0m\n",
            "\u001b[2K   \u001b[90m━━━━━━━━━━━━━━━━━━━━━━━━━━━━━━━━━━━━━━━━\u001b[0m \u001b[32m127.9/127.9 MB\u001b[0m \u001b[31m8.0 MB/s\u001b[0m eta \u001b[36m0:00:00\u001b[0m\n",
            "\u001b[2K   \u001b[90m━━━━━━━━━━━━━━━━━━━━━━━━━━━━━━━━━━━━━━━━\u001b[0m \u001b[32m207.5/207.5 MB\u001b[0m \u001b[31m5.4 MB/s\u001b[0m eta \u001b[36m0:00:00\u001b[0m\n",
            "\u001b[2K   \u001b[90m━━━━━━━━━━━━━━━━━━━━━━━━━━━━━━━━━━━━━━━━\u001b[0m \u001b[32m188.7/188.7 MB\u001b[0m \u001b[31m6.0 MB/s\u001b[0m eta \u001b[36m0:00:00\u001b[0m\n",
            "\u001b[2K   \u001b[90m━━━━━━━━━━━━━━━━━━━━━━━━━━━━━━━━━━━━━━━━\u001b[0m \u001b[32m21.1/21.1 MB\u001b[0m \u001b[31m73.6 MB/s\u001b[0m eta \u001b[36m0:00:00\u001b[0m\n",
            "\u001b[?25h  Building wheel for openai-whisper (pyproject.toml) ... \u001b[?25l\u001b[?25hdone\n",
            "W: Skipping acquire of configured file 'main/source/Sources' as repository 'https://r2u.stat.illinois.edu/ubuntu jammy InRelease' does not seem to provide it (sources.list entry misspelt?)\n",
            "Loading Whisper model on cpu\n"
          ]
        },
        {
          "output_type": "stream",
          "name": "stderr",
          "text": [
            "100%|████████████████████████████████████████| 139M/139M [00:01<00:00, 144MiB/s]\n"
          ]
        },
        {
          "output_type": "stream",
          "name": "stdout",
          "text": [
            "Model loaded.\n",
            "\n",
            "It looks like you are running Gradio on a hosted Jupyter notebook, which requires `share=True`. Automatically setting `share=True` (you can turn this off by setting `share=False` in `launch()` explicitly).\n",
            "\n",
            "Colab notebook detected. To show errors in colab notebook, set debug=True in launch()\n",
            "* Running on public URL: https://41e5c175a0c732252c.gradio.live\n",
            "\n",
            "This share link expires in 1 week. For free permanent hosting and GPU upgrades, run `gradio deploy` from the terminal in the working directory to deploy to Hugging Face Spaces (https://huggingface.co/spaces)\n"
          ]
        },
        {
          "output_type": "display_data",
          "data": {
            "text/plain": [
              "<IPython.core.display.HTML object>"
            ],
            "text/html": [
              "<div><iframe src=\"https://41e5c175a0c732252c.gradio.live\" width=\"100%\" height=\"500\" allow=\"autoplay; camera; microphone; clipboard-read; clipboard-write;\" frameborder=\"0\" allowfullscreen></iframe></div>"
            ]
          },
          "metadata": {}
        },
        {
          "output_type": "execute_result",
          "data": {
            "text/plain": []
          },
          "metadata": {},
          "execution_count": 1
        }
      ],
      "source": [
        "# 1️⃣ Install packages and FFmpeg\n",
        "!pip install -q git+https://github.com/openai/whisper.git pydub torch torchaudio gradio\n",
        "!apt-get update -qq\n",
        "!apt-get install -y -qq ffmpeg\n",
        "\n",
        "# 2️⃣ Imports\n",
        "import os\n",
        "import tempfile\n",
        "import zipfile\n",
        "from pydub import AudioSegment\n",
        "import whisper\n",
        "import torch\n",
        "import gradio as gr\n",
        "\n",
        "# 3️⃣ Load Whisper model\n",
        "device = \"cuda\" if torch.cuda.is_available() else \"cpu\"\n",
        "model_size = \"base\"\n",
        "print(\"Loading Whisper model on\", device)\n",
        "model = whisper.load_model(model_size).to(device)\n",
        "print(\"Model loaded.\\n\")\n",
        "\n",
        "# 4️⃣ Function to process MP3s and return a ZIP\n",
        "def process_mp3s_zip(filepaths, pause_seconds=10):\n",
        "    pause_ms = pause_seconds * 1000\n",
        "    zip_path = tempfile.NamedTemporaryFile(delete=False, suffix=\".zip\").name\n",
        "    with zipfile.ZipFile(zip_path, \"w\") as zipf:\n",
        "        for idx, path in enumerate(filepaths, 1):\n",
        "            # Load audio\n",
        "            original = AudioSegment.from_file(path)\n",
        "            result = model.transcribe(path)\n",
        "            silence = AudioSegment.silent(duration=pause_ms)\n",
        "            final_audio = AudioSegment.empty()\n",
        "\n",
        "            segments = result.get(\"segments\", [])\n",
        "            if not segments:\n",
        "                final_audio = original\n",
        "            else:\n",
        "                for seg in segments:\n",
        "                    start_ms = int(seg[\"start\"] * 1000)\n",
        "                    end_ms = int(seg[\"end\"] * 1000)\n",
        "                    chunk = original[start_ms:end_ms]\n",
        "                    final_audio += chunk\n",
        "                    final_audio += silence  # add pause after each segment\n",
        "\n",
        "            # Save processed MP3 to temp\n",
        "            tmp_out = tempfile.NamedTemporaryFile(delete=False, suffix=\".mp3\")\n",
        "            final_audio.export(tmp_out.name, format=\"mp3\")\n",
        "\n",
        "            # Add processed MP3 to ZIP\n",
        "            zipf.write(tmp_out.name, os.path.basename(path))\n",
        "\n",
        "    return zip_path\n",
        "\n",
        "# 5️⃣ Gradio interface\n",
        "iface = gr.Interface(\n",
        "    fn=process_mp3s_zip,\n",
        "    inputs=[\n",
        "        gr.File(file_types=[\".mp3\"], type=\"filepath\", label=\"Upload MP3 files\", file_count=\"multiple\"),\n",
        "        gr.Slider(1, 60, value=10, step=1, label=\"Pause duration (seconds)\")\n",
        "    ],\n",
        "    outputs=gr.File(label=\"Download ZIP of processed MP3s\"),\n",
        "    title=\"Automated MP3 Pause Inserter\",\n",
        "    description=\"Upload MP3s, set pause duration, and download a ZIP with all processed MP3s automatically.\"\n",
        ")\n",
        "\n",
        "iface.launch()\n",
        "\n"
      ]
    }
  ]
}