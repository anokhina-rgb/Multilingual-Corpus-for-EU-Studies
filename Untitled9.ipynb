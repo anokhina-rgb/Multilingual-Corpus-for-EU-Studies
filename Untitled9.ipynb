{
  "nbformat": 4,
  "nbformat_minor": 0,
  "metadata": {
    "colab": {
      "provenance": [],
      "authorship_tag": "ABX9TyN5bEwiKYgw3UHY0IlEuPPf",
      "include_colab_link": true
    },
    "kernelspec": {
      "name": "python3",
      "display_name": "Python 3"
    },
    "language_info": {
      "name": "python"
    }
  },
  "cells": [
    {
      "cell_type": "markdown",
      "metadata": {
        "id": "view-in-github",
        "colab_type": "text"
      },
      "source": [
        "<a href=\"https://colab.research.google.com/github/anokhina-rgb/Multilingual-Corpus-for-EU-Studies/blob/main/Untitled9.ipynb\" target=\"_parent\"><img src=\"https://colab.research.google.com/assets/colab-badge.svg\" alt=\"Open In Colab\"/></a>"
      ]
    },
    {
      "cell_type": "code",
      "execution_count": null,
      "metadata": {
        "id": "6nDfNeFqkD6O"
      },
      "outputs": [],
      "source": []
    },
    {
      "cell_type": "code",
      "source": [
        "# ✅ Install required libraries (Colab only)\n",
        "!pip install -q requests beautifulsoup4 python-docx fpdf\n",
        "\n",
        "# ✅ Import libraries\n",
        "import os\n",
        "import requests\n",
        "from bs4 import BeautifulSoup\n",
        "from docx import Document\n",
        "from fpdf import FPDF\n",
        "from datetime import datetime\n",
        "\n",
        "# ✅ Scraping function\n",
        "def scrape_blog(url):\n",
        "    headers = {\"User-Agent\": \"Mozilla/5.0 (Windows NT 10.0; Win64; x64)\"}\n",
        "    try:\n",
        "        res = requests.get(url, headers=headers, timeout=10)\n",
        "        if res.status_code != 200:\n",
        "            return None, f\"Failed with status code: {res.status_code}\"\n",
        "\n",
        "        soup = BeautifulSoup(res.text, 'html.parser')\n",
        "        title_tag = soup.find(\"h1\") or soup.title\n",
        "        title = title_tag.get_text(strip=True) if title_tag else \"Untitled\"\n",
        "\n",
        "        content_area = soup.find(\"article\") or soup.find(\"div\", class_=\"post\") or soup.find(\"main\") or soup.body\n",
        "        if not content_area:\n",
        "            return None, \"No readable content found.\"\n",
        "\n",
        "        paragraphs = content_area.find_all(\"p\")\n",
        "        text_blocks = [p.get_text(strip=True) for p in paragraphs if len(p.get_text(strip=True)) > 20]\n",
        "        full_text = f\"URL: {url}\\n\\nTITLE: {title}\\n\\n\" + \"\\n\\n\".join(text_blocks)\n",
        "\n",
        "        if len(full_text.strip()) < 100:\n",
        "            return None, \"Content too short to save.\"\n",
        "\n",
        "        return title, full_text\n",
        "\n",
        "    except Exception as e:\n",
        "        return None, f\"Error: {str(e)}\"\n",
        "\n",
        "# ✅ Saving functions\n",
        "def save_to_txt(title, text, folder):\n",
        "    path = os.path.join(folder, f\"{title[:50].replace(' ', '_')}.txt\")\n",
        "    with open(path, \"w\", encoding=\"utf-8\") as f:\n",
        "        f.write(text)\n",
        "\n",
        "def save_to_docx(title, text, folder):\n",
        "    doc = Document()\n",
        "    doc.add_heading(title, level=1)\n",
        "    doc.add_paragraph(text)\n",
        "    doc.save(os.path.join(folder, f\"{title[:50].replace(' ', '_')}.docx\"))\n",
        "\n",
        "def save_to_pdf(title, text, folder):\n",
        "    pdf = FPDF()\n",
        "    pdf.add_page()\n",
        "    pdf.set_font(\"Arial\", size=12)\n",
        "    for line in text.split(\"\\n\"):\n",
        "        pdf.multi_cell(0, 10, txt=line)\n",
        "    pdf.output(os.path.join(folder, f\"{title[:50].replace(' ', '_')}.pdf\"))\n",
        "\n",
        "# ✅ Define your blog URLs here\n",
        "urls = [\n",
        "    \"https://poetryfromtheheart123.blogspot.com/\",\n",
        "    \"https://ukrainianstudentvoices.blogspot.com/\"\n",
        "]\n",
        "\n",
        "# ✅ Create output folder\n",
        "folder = f\"scraped_{datetime.now().strftime('%Y%m%d_%H%M%S')}\"\n",
        "os.makedirs(folder, exist_ok=True)\n",
        "\n",
        "# ✅ Run scraper\n",
        "for url in urls:\n",
        "    title, text = scrape_blog(url)\n",
        "    if title and text:\n",
        "        print(f\"✅ Scraped: {title}\")\n",
        "        save_to_txt(title, text, folder)\n",
        "        save_to_docx(title, text, folder)\n",
        "        save_to_pdf(title, text, folder)\n",
        "    else:\n",
        "        print(f\"⚠️ Failed: {url}\\n{text}\")\n"
      ],
      "metadata": {
        "colab": {
          "base_uri": "https://localhost:8080/"
        },
        "id": "37HZFiR8kEbG",
        "outputId": "c7fd191e-c1db-4d70-b54f-91f48ccb2b63"
      },
      "execution_count": null,
      "outputs": [
        {
          "output_type": "stream",
          "name": "stdout",
          "text": [
            "  Preparing metadata (setup.py) ... \u001b[?25l\u001b[?25hdone\n",
            "\u001b[?25l   \u001b[90m━━━━━━━━━━━━━━━━━━━━━━━━━━━━━━━━━━━━━━━━\u001b[0m \u001b[32m0.0/244.3 kB\u001b[0m \u001b[31m?\u001b[0m eta \u001b[36m-:--:--\u001b[0m\r\u001b[2K   \u001b[90m━━━━━━━━━━━━━━━━━━━━━━━━━━━━━━━━━━━━━━━━\u001b[0m \u001b[32m244.3/244.3 kB\u001b[0m \u001b[31m7.7 MB/s\u001b[0m eta \u001b[36m0:00:00\u001b[0m\n",
            "\u001b[?25h  Building wheel for fpdf (setup.py) ... \u001b[?25l\u001b[?25hdone\n"
          ]
        }
      ]
    },
    {
      "cell_type": "code",
      "source": [],
      "metadata": {
        "id": "hDVwt3l4kUVs"
      },
      "execution_count": null,
      "outputs": []
    }
  ]
}